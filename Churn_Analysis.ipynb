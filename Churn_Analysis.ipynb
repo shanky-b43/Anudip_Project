{
  "nbformat": 4,
  "nbformat_minor": 0,
  "metadata": {
    "colab": {
      "provenance": []
    },
    "kernelspec": {
      "name": "python3",
      "display_name": "Python 3"
    },
    "language_info": {
      "name": "python"
    }
  },
  "cells": [
    {
      "cell_type": "markdown",
      "source": [
        "Importing necessary libraries for analyzing data."
      ],
      "metadata": {
        "id": "7IfHQVQ8gDsy"
      }
    },
    {
      "cell_type": "code",
      "execution_count": 20,
      "metadata": {
        "id": "4HYAZjoik6QD"
      },
      "outputs": [],
      "source": [
        "import numpy as np  # Using pandas for data manipulation, cleansing data etc.\n",
        "import pandas as pd  # Using numpy for performing numerical operations.\n",
        "import matplotlib.pyplot as plt  # Using matplotlib for data visualization to get insights from the data."
      ]
    },
    {
      "cell_type": "markdown",
      "source": [
        "Imported our dataset using pandas library and print the data"
      ],
      "metadata": {
        "id": "fRewcKWdf2bb"
      }
    },
    {
      "cell_type": "code",
      "source": [
        "df = pd.read_excel('/content/E_Commerce_Dataset.xlsx')\n",
        "data= pd.DataFrame(df)\n",
        "print(data)"
      ],
      "metadata": {
        "colab": {
          "base_uri": "https://localhost:8080/"
        },
        "id": "xukgwzhvwM_d",
        "outputId": "4a519851-488d-43db-d429-12d8f62bd053"
      },
      "execution_count": 21,
      "outputs": [
        {
          "output_type": "stream",
          "name": "stdout",
          "text": [
            "      CustomerID  Churn  Tenure PreferredLoginDevice  CityTier  \\\n",
            "0          50001      1     4.0         Mobile Phone         3   \n",
            "1          50002      1     NaN                Phone         1   \n",
            "2          50003      1     NaN                Phone         1   \n",
            "3          50004      1     0.0                Phone         3   \n",
            "4          50005      1     0.0                Phone         1   \n",
            "...          ...    ...     ...                  ...       ...   \n",
            "5625       55626      0    10.0             Computer         1   \n",
            "5626       55627      0    13.0         Mobile Phone         1   \n",
            "5627       55628      0     1.0         Mobile Phone         1   \n",
            "5628       55629      0    23.0             Computer         3   \n",
            "5629       55630      0     8.0         Mobile Phone         1   \n",
            "\n",
            "      WarehouseToHome PreferredPaymentMode  Gender  HourSpendOnApp  \\\n",
            "0                 6.0           Debit Card  Female             3.0   \n",
            "1                 8.0                  UPI    Male             3.0   \n",
            "2                30.0           Debit Card    Male             2.0   \n",
            "3                15.0           Debit Card    Male             2.0   \n",
            "4                12.0                   CC    Male             NaN   \n",
            "...               ...                  ...     ...             ...   \n",
            "5625             30.0          Credit Card    Male             3.0   \n",
            "5626             13.0          Credit Card    Male             3.0   \n",
            "5627             11.0           Debit Card    Male             3.0   \n",
            "5628              9.0          Credit Card    Male             4.0   \n",
            "5629             15.0          Credit Card    Male             3.0   \n",
            "\n",
            "      NumberOfDeviceRegistered    PreferedOrderCat  SatisfactionScore  \\\n",
            "0                            3  Laptop & Accessory                  2   \n",
            "1                            4              Mobile                  3   \n",
            "2                            4              Mobile                  3   \n",
            "3                            4  Laptop & Accessory                  5   \n",
            "4                            3              Mobile                  5   \n",
            "...                        ...                 ...                ...   \n",
            "5625                         2  Laptop & Accessory                  1   \n",
            "5626                         5             Fashion                  5   \n",
            "5627                         2  Laptop & Accessory                  4   \n",
            "5628                         5  Laptop & Accessory                  4   \n",
            "5629                         2  Laptop & Accessory                  3   \n",
            "\n",
            "     MaritalStatus  NumberOfAddress  Complain  OrderAmountHikeFromlastYear  \\\n",
            "0           Single                9         1                         11.0   \n",
            "1           Single                7         1                         15.0   \n",
            "2           Single                6         1                         14.0   \n",
            "3           Single                8         0                         23.0   \n",
            "4           Single                3         0                         11.0   \n",
            "...            ...              ...       ...                          ...   \n",
            "5625       Married                6         0                         18.0   \n",
            "5626       Married                6         0                         16.0   \n",
            "5627       Married                3         1                         21.0   \n",
            "5628       Married                4         0                         15.0   \n",
            "5629       Married                4         0                         13.0   \n",
            "\n",
            "      CouponUsed  OrderCount  DaySinceLastOrder  CashbackAmount  \n",
            "0            1.0         1.0                5.0          159.93  \n",
            "1            0.0         1.0                0.0          120.90  \n",
            "2            0.0         1.0                3.0          120.28  \n",
            "3            0.0         1.0                3.0          134.07  \n",
            "4            1.0         1.0                3.0          129.60  \n",
            "...          ...         ...                ...             ...  \n",
            "5625         1.0         2.0                4.0          150.71  \n",
            "5626         1.0         2.0                NaN          224.91  \n",
            "5627         1.0         2.0                4.0          186.42  \n",
            "5628         2.0         2.0                9.0          178.90  \n",
            "5629         2.0         2.0                3.0          169.04  \n",
            "\n",
            "[5630 rows x 20 columns]\n"
          ]
        }
      ]
    },
    {
      "cell_type": "markdown",
      "source": [
        "Now check the information of the data and remove unrelated data from the dataset"
      ],
      "metadata": {
        "id": "wPdpMCvkhNrl"
      }
    },
    {
      "cell_type": "code",
      "source": [
        "print(data.info())"
      ],
      "metadata": {
        "colab": {
          "base_uri": "https://localhost:8080/"
        },
        "id": "I0OI2zAkhM6z",
        "outputId": "993c5555-e765-42f7-ada7-e570f200a8d1"
      },
      "execution_count": 22,
      "outputs": [
        {
          "output_type": "stream",
          "name": "stdout",
          "text": [
            "<class 'pandas.core.frame.DataFrame'>\n",
            "RangeIndex: 5630 entries, 0 to 5629\n",
            "Data columns (total 20 columns):\n",
            " #   Column                       Non-Null Count  Dtype  \n",
            "---  ------                       --------------  -----  \n",
            " 0   CustomerID                   5630 non-null   int64  \n",
            " 1   Churn                        5630 non-null   int64  \n",
            " 2   Tenure                       5366 non-null   float64\n",
            " 3   PreferredLoginDevice         5630 non-null   object \n",
            " 4   CityTier                     5630 non-null   int64  \n",
            " 5   WarehouseToHome              5379 non-null   float64\n",
            " 6   PreferredPaymentMode         5630 non-null   object \n",
            " 7   Gender                       5630 non-null   object \n",
            " 8   HourSpendOnApp               5375 non-null   float64\n",
            " 9   NumberOfDeviceRegistered     5630 non-null   int64  \n",
            " 10  PreferedOrderCat             5630 non-null   object \n",
            " 11  SatisfactionScore            5630 non-null   int64  \n",
            " 12  MaritalStatus                5630 non-null   object \n",
            " 13  NumberOfAddress              5630 non-null   int64  \n",
            " 14  Complain                     5630 non-null   int64  \n",
            " 15  OrderAmountHikeFromlastYear  5365 non-null   float64\n",
            " 16  CouponUsed                   5374 non-null   float64\n",
            " 17  OrderCount                   5372 non-null   float64\n",
            " 18  DaySinceLastOrder            5323 non-null   float64\n",
            " 19  CashbackAmount               5630 non-null   float64\n",
            "dtypes: float64(8), int64(7), object(5)\n",
            "memory usage: 879.8+ KB\n",
            "None\n"
          ]
        }
      ]
    },
    {
      "cell_type": "markdown",
      "source": [
        "Through the information we can see that our dataset containing null in few column. Either we can remove that particular row or we can replace that value from the mean of that column values. I am replacing these values from mean."
      ],
      "metadata": {
        "id": "7X0m_FgjiUXL"
      }
    },
    {
      "cell_type": "code",
      "source": [
        "data['Tenure'].fillna(data['Tenure'].mean(), inplace=True)\n",
        "data['HourSpendOnApp'].fillna(data['HourSpendOnApp'].mean(), inplace=True)\n",
        "data['OrderAmountHikeFromlastYear'].fillna(data['OrderAmountHikeFromlastYear'].mean(), inplace=True)\n",
        "data['CouponUsed'].fillna(data['CouponUsed'].mean(), inplace=True)\n",
        "data['OrderCount'].fillna(data['OrderCount'].mean(), inplace=True)\n",
        "data['DaySinceLastOrder'].fillna(data['DaySinceLastOrder'].mean(), inplace=True)\n",
        "data['WarehouseToHome'].fillna(data['WarehouseToHome'].mean(), inplace=True)\n",
        "print(data.info()) # Again Checking the information"
      ],
      "metadata": {
        "colab": {
          "base_uri": "https://localhost:8080/"
        },
        "id": "CtlHfsuMj2HY",
        "outputId": "1b125e0a-7795-4eba-d195-0a88bc6a9882"
      },
      "execution_count": 29,
      "outputs": [
        {
          "output_type": "stream",
          "name": "stdout",
          "text": [
            "<class 'pandas.core.frame.DataFrame'>\n",
            "RangeIndex: 5630 entries, 0 to 5629\n",
            "Data columns (total 20 columns):\n",
            " #   Column                       Non-Null Count  Dtype  \n",
            "---  ------                       --------------  -----  \n",
            " 0   CustomerID                   5630 non-null   int64  \n",
            " 1   Churn                        5630 non-null   int64  \n",
            " 2   Tenure                       5630 non-null   float64\n",
            " 3   PreferredLoginDevice         5630 non-null   object \n",
            " 4   CityTier                     5630 non-null   int64  \n",
            " 5   WarehouseToHome              5630 non-null   float64\n",
            " 6   PreferredPaymentMode         5630 non-null   object \n",
            " 7   Gender                       5630 non-null   object \n",
            " 8   HourSpendOnApp               5630 non-null   float64\n",
            " 9   NumberOfDeviceRegistered     5630 non-null   int64  \n",
            " 10  PreferedOrderCat             5630 non-null   object \n",
            " 11  SatisfactionScore            5630 non-null   int64  \n",
            " 12  MaritalStatus                5630 non-null   object \n",
            " 13  NumberOfAddress              5630 non-null   int64  \n",
            " 14  Complain                     5630 non-null   int64  \n",
            " 15  OrderAmountHikeFromlastYear  5630 non-null   float64\n",
            " 16  CouponUsed                   5630 non-null   float64\n",
            " 17  OrderCount                   5630 non-null   float64\n",
            " 18  DaySinceLastOrder            5630 non-null   float64\n",
            " 19  CashbackAmount               5630 non-null   float64\n",
            "dtypes: float64(8), int64(7), object(5)\n",
            "memory usage: 879.8+ KB\n",
            "None\n"
          ]
        },
        {
          "output_type": "stream",
          "name": "stderr",
          "text": [
            "<ipython-input-29-e316a252602c>:1: FutureWarning: A value is trying to be set on a copy of a DataFrame or Series through chained assignment using an inplace method.\n",
            "The behavior will change in pandas 3.0. This inplace method will never work because the intermediate object on which we are setting values always behaves as a copy.\n",
            "\n",
            "For example, when doing 'df[col].method(value, inplace=True)', try using 'df.method({col: value}, inplace=True)' or df[col] = df[col].method(value) instead, to perform the operation inplace on the original object.\n",
            "\n",
            "\n",
            "  data['Tenure'].fillna(data['Tenure'].mean(), inplace=True)\n",
            "<ipython-input-29-e316a252602c>:2: FutureWarning: A value is trying to be set on a copy of a DataFrame or Series through chained assignment using an inplace method.\n",
            "The behavior will change in pandas 3.0. This inplace method will never work because the intermediate object on which we are setting values always behaves as a copy.\n",
            "\n",
            "For example, when doing 'df[col].method(value, inplace=True)', try using 'df.method({col: value}, inplace=True)' or df[col] = df[col].method(value) instead, to perform the operation inplace on the original object.\n",
            "\n",
            "\n",
            "  data['HourSpendOnApp'].fillna(data['HourSpendOnApp'].mean(), inplace=True)\n",
            "<ipython-input-29-e316a252602c>:3: FutureWarning: A value is trying to be set on a copy of a DataFrame or Series through chained assignment using an inplace method.\n",
            "The behavior will change in pandas 3.0. This inplace method will never work because the intermediate object on which we are setting values always behaves as a copy.\n",
            "\n",
            "For example, when doing 'df[col].method(value, inplace=True)', try using 'df.method({col: value}, inplace=True)' or df[col] = df[col].method(value) instead, to perform the operation inplace on the original object.\n",
            "\n",
            "\n",
            "  data['OrderAmountHikeFromlastYear'].fillna(data['OrderAmountHikeFromlastYear'].mean(), inplace=True)\n",
            "<ipython-input-29-e316a252602c>:4: FutureWarning: A value is trying to be set on a copy of a DataFrame or Series through chained assignment using an inplace method.\n",
            "The behavior will change in pandas 3.0. This inplace method will never work because the intermediate object on which we are setting values always behaves as a copy.\n",
            "\n",
            "For example, when doing 'df[col].method(value, inplace=True)', try using 'df.method({col: value}, inplace=True)' or df[col] = df[col].method(value) instead, to perform the operation inplace on the original object.\n",
            "\n",
            "\n",
            "  data['CouponUsed'].fillna(data['CouponUsed'].mean(), inplace=True)\n",
            "<ipython-input-29-e316a252602c>:5: FutureWarning: A value is trying to be set on a copy of a DataFrame or Series through chained assignment using an inplace method.\n",
            "The behavior will change in pandas 3.0. This inplace method will never work because the intermediate object on which we are setting values always behaves as a copy.\n",
            "\n",
            "For example, when doing 'df[col].method(value, inplace=True)', try using 'df.method({col: value}, inplace=True)' or df[col] = df[col].method(value) instead, to perform the operation inplace on the original object.\n",
            "\n",
            "\n",
            "  data['OrderCount'].fillna(data['OrderCount'].mean(), inplace=True)\n",
            "<ipython-input-29-e316a252602c>:6: FutureWarning: A value is trying to be set on a copy of a DataFrame or Series through chained assignment using an inplace method.\n",
            "The behavior will change in pandas 3.0. This inplace method will never work because the intermediate object on which we are setting values always behaves as a copy.\n",
            "\n",
            "For example, when doing 'df[col].method(value, inplace=True)', try using 'df.method({col: value}, inplace=True)' or df[col] = df[col].method(value) instead, to perform the operation inplace on the original object.\n",
            "\n",
            "\n",
            "  data['DaySinceLastOrder'].fillna(data['DaySinceLastOrder'].mean(), inplace=True)\n",
            "<ipython-input-29-e316a252602c>:7: FutureWarning: A value is trying to be set on a copy of a DataFrame or Series through chained assignment using an inplace method.\n",
            "The behavior will change in pandas 3.0. This inplace method will never work because the intermediate object on which we are setting values always behaves as a copy.\n",
            "\n",
            "For example, when doing 'df[col].method(value, inplace=True)', try using 'df.method({col: value}, inplace=True)' or df[col] = df[col].method(value) instead, to perform the operation inplace on the original object.\n",
            "\n",
            "\n",
            "  data['WarehouseToHome'].fillna(data['WarehouseToHome'].mean(), inplace=True)\n"
          ]
        }
      ]
    },
    {
      "cell_type": "code",
      "source": [
        "print(data.head()) #looking top 5 rows of the data."
      ],
      "metadata": {
        "colab": {
          "base_uri": "https://localhost:8080/"
        },
        "id": "WUgEqTVzPTZ1",
        "outputId": "ae4dea6c-63aa-443b-d097-c51b1489c9ad"
      },
      "execution_count": 79,
      "outputs": [
        {
          "output_type": "stream",
          "name": "stdout",
          "text": [
            "   CustomerID  Churn  Tenure PreferredLoginDevice  CityTier  WarehouseToHome  \\\n",
            "0       50001      1       4         Mobile Phone         3                6   \n",
            "1       50002      1      10                Phone         1                8   \n",
            "2       50003      1      10                Phone         1               30   \n",
            "3       50004      1       0                Phone         3               15   \n",
            "4       50005      1       0                Phone         1               12   \n",
            "\n",
            "  PreferredPaymentMode  Gender  HourSpendOnApp  NumberOfDeviceRegistered  ...  \\\n",
            "0           Debit Card  Female               3                         3  ...   \n",
            "1                  UPI    Male               3                         4  ...   \n",
            "2           Debit Card    Male               2                         4  ...   \n",
            "3           Debit Card    Male               2                         4  ...   \n",
            "4                   CC    Male               2                         3  ...   \n",
            "\n",
            "  SatisfactionScore  MaritalStatus NumberOfAddress  Complain  \\\n",
            "0                 2         Single               9         1   \n",
            "1                 3         Single               7         1   \n",
            "2                 3         Single               6         1   \n",
            "3                 5         Single               8         0   \n",
            "4                 5         Single               3         0   \n",
            "\n",
            "   OrderAmountHikeFromlastYear  CouponUsed  OrderCount  DaySinceLastOrder  \\\n",
            "0                           11           1           1                  5   \n",
            "1                           15           0           1                  0   \n",
            "2                           14           0           1                  3   \n",
            "3                           23           0           1                  3   \n",
            "4                           11           1           1                  3   \n",
            "\n",
            "   CashbackAmount  cashback_per_order  \n",
            "0             159               159.0  \n",
            "1             120               120.0  \n",
            "2             120               120.0  \n",
            "3             134               134.0  \n",
            "4             129               129.0  \n",
            "\n",
            "[5 rows x 21 columns]\n"
          ]
        }
      ]
    },
    {
      "cell_type": "code",
      "source": [
        "print(data.tail()) # look on the last rows of dataset"
      ],
      "metadata": {
        "colab": {
          "base_uri": "https://localhost:8080/"
        },
        "id": "lmClPwuXPavv",
        "outputId": "1fd581bd-8ab0-4a1c-9a0f-8b3fce421492"
      },
      "execution_count": 80,
      "outputs": [
        {
          "output_type": "stream",
          "name": "stdout",
          "text": [
            "      CustomerID  Churn  Tenure PreferredLoginDevice  CityTier  \\\n",
            "5625       55626      0      10             Computer         1   \n",
            "5626       55627      0      13         Mobile Phone         1   \n",
            "5627       55628      0       1         Mobile Phone         1   \n",
            "5628       55629      0      23             Computer         3   \n",
            "5629       55630      0       8         Mobile Phone         1   \n",
            "\n",
            "      WarehouseToHome PreferredPaymentMode Gender  HourSpendOnApp  \\\n",
            "5625               30          Credit Card   Male               3   \n",
            "5626               13          Credit Card   Male               3   \n",
            "5627               11           Debit Card   Male               3   \n",
            "5628                9          Credit Card   Male               4   \n",
            "5629               15          Credit Card   Male               3   \n",
            "\n",
            "      NumberOfDeviceRegistered  ... SatisfactionScore  MaritalStatus  \\\n",
            "5625                         2  ...                 1        Married   \n",
            "5626                         5  ...                 5        Married   \n",
            "5627                         2  ...                 4        Married   \n",
            "5628                         5  ...                 4        Married   \n",
            "5629                         2  ...                 3        Married   \n",
            "\n",
            "     NumberOfAddress  Complain  OrderAmountHikeFromlastYear  CouponUsed  \\\n",
            "5625               6         0                           18           1   \n",
            "5626               6         0                           16           1   \n",
            "5627               3         1                           21           1   \n",
            "5628               4         0                           15           2   \n",
            "5629               4         0                           13           2   \n",
            "\n",
            "      OrderCount  DaySinceLastOrder  CashbackAmount  cashback_per_order  \n",
            "5625           2                  4             150                75.0  \n",
            "5626           2                  4             224               112.0  \n",
            "5627           2                  4             186                93.0  \n",
            "5628           2                  9             178                89.0  \n",
            "5629           2                  3             169                84.5  \n",
            "\n",
            "[5 rows x 21 columns]\n"
          ]
        }
      ]
    },
    {
      "cell_type": "markdown",
      "source": [
        "Now we chage the datatype for our columns for analysis."
      ],
      "metadata": {
        "id": "Sgtf_7sivYAi"
      }
    },
    {
      "cell_type": "code",
      "source": [
        "data['Tenure'] = data['Tenure'].astype(int)\n",
        "data['HourSpendOnApp'] = data['HourSpendOnApp'].astype(int)\n",
        "data['OrderAmountHikeFromlastYear'] = data['OrderAmountHikeFromlastYear'].astype(int)\n",
        "data['CouponUsed'] = data['CouponUsed'].astype(int)\n",
        "data['OrderCount'] = data['OrderCount'].astype(int)\n",
        "data['DaySinceLastOrder'] = data['DaySinceLastOrder'].astype(int)\n",
        "data['WarehouseToHome'] = data['WarehouseToHome'].astype(int)\n",
        "data['CashbackAmount'] = data['CashbackAmount'].astype(int)\n",
        "print(data.info()) # Again Checking the information"
      ],
      "metadata": {
        "colab": {
          "base_uri": "https://localhost:8080/"
        },
        "id": "IRh0DscTuoOF",
        "outputId": "04f8e523-1ee7-4f22-b3c8-d6d4dd718609"
      },
      "execution_count": 39,
      "outputs": [
        {
          "output_type": "stream",
          "name": "stdout",
          "text": [
            "<class 'pandas.core.frame.DataFrame'>\n",
            "RangeIndex: 5630 entries, 0 to 5629\n",
            "Data columns (total 20 columns):\n",
            " #   Column                       Non-Null Count  Dtype \n",
            "---  ------                       --------------  ----- \n",
            " 0   CustomerID                   5630 non-null   int64 \n",
            " 1   Churn                        5630 non-null   int64 \n",
            " 2   Tenure                       5630 non-null   int64 \n",
            " 3   PreferredLoginDevice         5630 non-null   object\n",
            " 4   CityTier                     5630 non-null   int64 \n",
            " 5   WarehouseToHome              5630 non-null   int64 \n",
            " 6   PreferredPaymentMode         5630 non-null   object\n",
            " 7   Gender                       5630 non-null   object\n",
            " 8   HourSpendOnApp               5630 non-null   int64 \n",
            " 9   NumberOfDeviceRegistered     5630 non-null   int64 \n",
            " 10  PreferedOrderCat             5630 non-null   object\n",
            " 11  SatisfactionScore            5630 non-null   int64 \n",
            " 12  MaritalStatus                5630 non-null   object\n",
            " 13  NumberOfAddress              5630 non-null   int64 \n",
            " 14  Complain                     5630 non-null   int64 \n",
            " 15  OrderAmountHikeFromlastYear  5630 non-null   int64 \n",
            " 16  CouponUsed                   5630 non-null   int64 \n",
            " 17  OrderCount                   5630 non-null   int64 \n",
            " 18  DaySinceLastOrder            5630 non-null   int64 \n",
            " 19  CashbackAmount               5630 non-null   int64 \n",
            "dtypes: int64(15), object(5)\n",
            "memory usage: 879.8+ KB\n",
            "None\n"
          ]
        }
      ]
    },
    {
      "cell_type": "markdown",
      "source": [
        "We done our replacing part. Now check for the duplicate rows in the dataset and removeing them."
      ],
      "metadata": {
        "id": "ILhfQwjZrGHa"
      }
    },
    {
      "cell_type": "code",
      "source": [
        "data.duplicated() # to check the duplicate rows\n",
        "data.drop_duplicates(inplace=True)\n",
        "data.duplicated().sum() # Again checking the duplicate rows"
      ],
      "metadata": {
        "colab": {
          "base_uri": "https://localhost:8080/"
        },
        "id": "bn29RXd8roGE",
        "outputId": "a9ed4e3c-2f5a-46e5-c23e-2f685f33c57e"
      },
      "execution_count": 42,
      "outputs": [
        {
          "output_type": "execute_result",
          "data": {
            "text/plain": [
              "np.int64(0)"
            ]
          },
          "metadata": {},
          "execution_count": 42
        }
      ]
    },
    {
      "cell_type": "markdown",
      "source": [
        "Now check the churners and non-churns from the dataset."
      ],
      "metadata": {
        "id": "hABM8w4Lgn7S"
      }
    },
    {
      "cell_type": "code",
      "source": [
        "data['Churn'].value_counts()"
      ],
      "metadata": {
        "colab": {
          "base_uri": "https://localhost:8080/",
          "height": 178
        },
        "id": "pS_xUsIhtYZ1",
        "outputId": "a36bc148-49cb-4144-abab-010feb236267"
      },
      "execution_count": 49,
      "outputs": [
        {
          "output_type": "execute_result",
          "data": {
            "text/plain": [
              "Churn\n",
              "0    4682\n",
              "1     948\n",
              "Name: count, dtype: int64"
            ],
            "text/html": [
              "<div>\n",
              "<style scoped>\n",
              "    .dataframe tbody tr th:only-of-type {\n",
              "        vertical-align: middle;\n",
              "    }\n",
              "\n",
              "    .dataframe tbody tr th {\n",
              "        vertical-align: top;\n",
              "    }\n",
              "\n",
              "    .dataframe thead th {\n",
              "        text-align: right;\n",
              "    }\n",
              "</style>\n",
              "<table border=\"1\" class=\"dataframe\">\n",
              "  <thead>\n",
              "    <tr style=\"text-align: right;\">\n",
              "      <th></th>\n",
              "      <th>count</th>\n",
              "    </tr>\n",
              "    <tr>\n",
              "      <th>Churn</th>\n",
              "      <th></th>\n",
              "    </tr>\n",
              "  </thead>\n",
              "  <tbody>\n",
              "    <tr>\n",
              "      <th>0</th>\n",
              "      <td>4682</td>\n",
              "    </tr>\n",
              "    <tr>\n",
              "      <th>1</th>\n",
              "      <td>948</td>\n",
              "    </tr>\n",
              "  </tbody>\n",
              "</table>\n",
              "</div><br><label><b>dtype:</b> int64</label>"
            ]
          },
          "metadata": {},
          "execution_count": 49
        }
      ]
    },
    {
      "cell_type": "markdown",
      "source": [
        "we have 948 churners which is hug for the dataset."
      ],
      "metadata": {
        "id": "sfOxnxBZ5LE7"
      }
    },
    {
      "cell_type": "code",
      "source": [
        "plt.bar(data['PreferredPaymentMode'], data['CustomerID'])\n",
        "plt.title('CustomerID vs PreferredPaymentMode')\n",
        "plt.xlabel('PreferredPaymentMode')\n",
        "plt.ylabel('CustomerID')\n",
        "plt.xticks(rotation=45, ha='right')  # Rotate x-axis labels if needed for readability\n",
        "plt.tight_layout()\n",
        "plt.show()"
      ],
      "metadata": {
        "colab": {
          "base_uri": "https://localhost:8080/",
          "height": 487
        },
        "id": "p0QGTc835jBk",
        "outputId": "6f81ff74-140b-4b7e-c9cc-05ef23298410"
      },
      "execution_count": 62,
      "outputs": [
        {
          "output_type": "display_data",
          "data": {
            "text/plain": [
              "<Figure size 640x480 with 1 Axes>"
            ],
            "image/png": "[encoded data removed]"
          },
          "metadata": {}
        }
      ]
    },
    {
      "cell_type": "markdown",
      "source": [
        "We can see that cc(Credit Card) users are lower as compared to other payment mode."
      ],
      "metadata": {
        "id": "tQhUPzKtATYH"
      }
    },
    {
      "cell_type": "code",
      "source": [
        "data['WarehouseToHome'].describe()"
      ],
      "metadata": {
        "colab": {
          "base_uri": "https://localhost:8080/",
          "height": 335
        },
        "id": "LXoxhMV3Anma",
        "outputId": "b2306e76-1332-46a1-e58e-83e8f63752eb"
      },
      "execution_count": 65,
      "outputs": [
        {
          "output_type": "execute_result",
          "data": {
            "text/plain": [
              "count    5630.000000\n",
              "mean       15.611368\n",
              "std         8.340141\n",
              "min         5.000000\n",
              "25%         9.000000\n",
              "50%        14.000000\n",
              "75%        20.000000\n",
              "max       127.000000\n",
              "Name: WarehouseToHome, dtype: float64"
            ],
            "text/html": [
              "<div>\n",
              "<style scoped>\n",
              "    .dataframe tbody tr th:only-of-type {\n",
              "        vertical-align: middle;\n",
              "    }\n",
              "\n",
              "    .dataframe tbody tr th {\n",
              "        vertical-align: top;\n",
              "    }\n",
              "\n",
              "    .dataframe thead th {\n",
              "        text-align: right;\n",
              "    }\n",
              "</style>\n",
              "<table border=\"1\" class=\"dataframe\">\n",
              "  <thead>\n",
              "    <tr style=\"text-align: right;\">\n",
              "      <th></th>\n",
              "      <th>WarehouseToHome</th>\n",
              "    </tr>\n",
              "  </thead>\n",
              "  <tbody>\n",
              "    <tr>\n",
              "      <th>count</th>\n",
              "      <td>5630.000000</td>\n",
              "    </tr>\n",
              "    <tr>\n",
              "      <th>mean</th>\n",
              "      <td>15.611368</td>\n",
              "    </tr>\n",
              "    <tr>\n",
              "      <th>std</th>\n",
              "      <td>8.340141</td>\n",
              "    </tr>\n",
              "    <tr>\n",
              "      <th>min</th>\n",
              "      <td>5.000000</td>\n",
              "    </tr>\n",
              "    <tr>\n",
              "      <th>25%</th>\n",
              "      <td>9.000000</td>\n",
              "    </tr>\n",
              "    <tr>\n",
              "      <th>50%</th>\n",
              "      <td>14.000000</td>\n",
              "    </tr>\n",
              "    <tr>\n",
              "      <th>75%</th>\n",
              "      <td>20.000000</td>\n",
              "    </tr>\n",
              "    <tr>\n",
              "      <th>max</th>\n",
              "      <td>127.000000</td>\n",
              "    </tr>\n",
              "  </tbody>\n",
              "</table>\n",
              "</div><br><label><b>dtype:</b> float64</label>"
            ]
          },
          "metadata": {},
          "execution_count": 65
        }
      ]
    },
    {
      "cell_type": "markdown",
      "source": [
        "We can see that we have customer of distance 127km from our warehouse and which can be a reason for the churn."
      ],
      "metadata": {
        "id": "TfS3-pK6Bdn-"
      }
    },
    {
      "cell_type": "code",
      "source": [
        "data['SatisfactionScore'].mean()"
      ],
      "metadata": {
        "colab": {
          "base_uri": "https://localhost:8080/"
        },
        "id": "StTMIWNGCpPp",
        "outputId": "1df5aa91-602b-416a-bf33-9c00a0bc3c6a"
      },
      "execution_count": 66,
      "outputs": [
        {
          "output_type": "execute_result",
          "data": {
            "text/plain": [
              "np.float64(3.066785079928952)"
            ]
          },
          "metadata": {},
          "execution_count": 66
        }
      ]
    },
    {
      "cell_type": "markdown",
      "source": [
        "We have average of 3.066 which is good not perfect"
      ],
      "metadata": {
        "id": "zAqGFVJIE3Lt"
      }
    },
    {
      "cell_type": "code",
      "source": [
        "data['Complain'].sum()"
      ],
      "metadata": {
        "colab": {
          "base_uri": "https://localhost:8080/"
        },
        "id": "nmAwWQLdEfNl",
        "outputId": "c8ce2fd2-be46-4de5-f8e7-3453d51a5990"
      },
      "execution_count": 67,
      "outputs": [
        {
          "output_type": "execute_result",
          "data": {
            "text/plain": [
              "np.int64(1604)"
            ]
          },
          "metadata": {},
          "execution_count": 67
        }
      ]
    },
    {
      "cell_type": "markdown",
      "source": [
        "We have 1604 customers which have complain"
      ],
      "metadata": {
        "id": "vL3j5UEuFUto"
      }
    },
    {
      "cell_type": "code",
      "source": [
        "plt.bar(data['MaritalStatus'],data['CustomerID'])\n",
        "plt.xlabel('MaritalStatus')\n",
        "plt.ylabel('CustomerID')\n",
        "plt.title('CustomerID vs MaritalStatus')\n",
        "plt.show()"
      ],
      "metadata": {
        "colab": {
          "base_uri": "https://localhost:8080/",
          "height": 472
        },
        "id": "J8KdKSt8FcIV",
        "outputId": "46f5ec77-4a40-4939-a391-e7b0b2e1c3ba"
      },
      "execution_count": 72,
      "outputs": [
        {
          "output_type": "display_data",
          "data": {
            "text/plain": [
              "<Figure size 640x480 with 1 Axes>"
            ],
            "image/png": "[encoded data removed]"
          },
          "metadata": {}
        }
      ]
    },
    {
      "cell_type": "code",
      "source": [
        "# Count the number of churners and non-churners by MartialStatus\n",
        "print(data.groupby('MaritalStatus')['Churn'].value_counts())"
      ],
      "metadata": {
        "colab": {
          "base_uri": "https://localhost:8080/"
        },
        "id": "kgIyZYa8JH5r",
        "outputId": "5df3fb14-9b4c-4673-ce8d-8676c3e3a4e7"
      },
      "execution_count": 73,
      "outputs": [
        {
          "output_type": "stream",
          "name": "stdout",
          "text": [
            "MaritalStatus  Churn\n",
            "Divorced       0         724\n",
            "               1         124\n",
            "Married        0        2642\n",
            "               1         344\n",
            "Single         0        1316\n",
            "               1         480\n",
            "Name: count, dtype: int64\n"
          ]
        }
      ]
    },
    {
      "cell_type": "markdown",
      "source": [
        "Above given information where 1 stands for churners and 0 stands for non-churners."
      ],
      "metadata": {
        "id": "6SEoofgoJ1o4"
      }
    },
    {
      "cell_type": "code",
      "source": [
        "# Count the number of churners and non-churners by Gender\n",
        "print(data.groupby('Gender')['Churn'].value_counts())"
      ],
      "metadata": {
        "colab": {
          "base_uri": "https://localhost:8080/"
        },
        "id": "SRjQlGG_JiJW",
        "outputId": "daa55bf8-4bcd-41e5-c2c5-8f9a3030dea6"
      },
      "execution_count": 74,
      "outputs": [
        {
          "output_type": "stream",
          "name": "stdout",
          "text": [
            "Gender  Churn\n",
            "Female  0        1898\n",
            "        1         348\n",
            "Male    0        2784\n",
            "        1         600\n",
            "Name: count, dtype: int64\n"
          ]
        }
      ]
    },
    {
      "cell_type": "code",
      "source": [
        "data['cashback_per_order'] = data['CashbackAmount'] / data['OrderCount']\n",
        "data['cashback_per_order'].describe()"
      ],
      "metadata": {
        "colab": {
          "base_uri": "https://localhost:8080/",
          "height": 335
        },
        "id": "FR4-7-nxNG0g",
        "outputId": "5ed1f5a4-6cc0-40ff-f3fd-b83b34472e23"
      },
      "execution_count": 78,
      "outputs": [
        {
          "output_type": "execute_result",
          "data": {
            "text/plain": [
              "count    5630.000000\n",
              "mean       93.405216\n",
              "std        52.974047\n",
              "min         0.000000\n",
              "25%        57.333333\n",
              "50%        83.500000\n",
              "75%       128.000000\n",
              "max       298.000000\n",
              "Name: cashback_per_order, dtype: float64"
            ],
            "text/html": [
              "<div>\n",
              "<style scoped>\n",
              "    .dataframe tbody tr th:only-of-type {\n",
              "        vertical-align: middle;\n",
              "    }\n",
              "\n",
              "    .dataframe tbody tr th {\n",
              "        vertical-align: top;\n",
              "    }\n",
              "\n",
              "    .dataframe thead th {\n",
              "        text-align: right;\n",
              "    }\n",
              "</style>\n",
              "<table border=\"1\" class=\"dataframe\">\n",
              "  <thead>\n",
              "    <tr style=\"text-align: right;\">\n",
              "      <th></th>\n",
              "      <th>cashback_per_order</th>\n",
              "    </tr>\n",
              "  </thead>\n",
              "  <tbody>\n",
              "    <tr>\n",
              "      <th>count</th>\n",
              "      <td>5630.000000</td>\n",
              "    </tr>\n",
              "    <tr>\n",
              "      <th>mean</th>\n",
              "      <td>93.405216</td>\n",
              "    </tr>\n",
              "    <tr>\n",
              "      <th>std</th>\n",
              "      <td>52.974047</td>\n",
              "    </tr>\n",
              "    <tr>\n",
              "      <th>min</th>\n",
              "      <td>0.000000</td>\n",
              "    </tr>\n",
              "    <tr>\n",
              "      <th>25%</th>\n",
              "      <td>57.333333</td>\n",
              "    </tr>\n",
              "    <tr>\n",
              "      <th>50%</th>\n",
              "      <td>83.500000</td>\n",
              "    </tr>\n",
              "    <tr>\n",
              "      <th>75%</th>\n",
              "      <td>128.000000</td>\n",
              "    </tr>\n",
              "    <tr>\n",
              "      <th>max</th>\n",
              "      <td>298.000000</td>\n",
              "    </tr>\n",
              "  </tbody>\n",
              "</table>\n",
              "</div><br><label><b>dtype:</b> float64</label>"
            ]
          },
          "metadata": {},
          "execution_count": 78
        }
      ]
    },
    {
      "cell_type": "markdown",
      "source": [
        "We earn maximum 298 rupee per order. And average rupee is 93 per order."
      ],
      "metadata": {
        "id": "QIeUNYd7N17T"
      }
    },
    {
      "cell_type": "markdown",
      "source": [
        "### Conclusion  \n",
        "\n",
        "The churn analysis of the e-commerce dataset highlights several key insights:  \n",
        "\n",
        "1. **Data Cleaning & Preprocessing**  \n",
        "   - Missing values were successfully handled using mean imputation.  \n",
        "   - Data types were converted for efficient analysis.  \n",
        "   - Duplicate records were removed to ensure data integrity.  \n",
        "\n",
        "2. **Customer Behavior & Churn Trends**  \n",
        "   - There are **948 churners**, which is a significant portion of the dataset.  \n",
        "   - **Preferred Payment Mode**: Credit card users are lower compared to other payment methods.  \n",
        "   - **Distance from Warehouse**: Some customers live up to **127 km away**, which may contribute to churn.  \n",
        "   - **Satisfaction Score**: The average satisfaction score is **3.066**, which indicates room for improvement.  \n",
        "   - **Complaints**: **1,604 customers** have filed complaints, suggesting dissatisfaction.  \n",
        "\n",
        "3. **Demographic Insights**  \n",
        "   - Marital status and gender influence churn behavior, as seen in the grouped analysis.  \n",
        "   - Cashback per order varies significantly, with an average of **93 rupees per order** and a maximum of **298 rupees**.  \n",
        "\n",
        "### Recommendations  \n",
        "- Improve service for customers far from warehouses, possibly by optimizing logistics.  \n",
        "- Address customer complaints to enhance satisfaction and retention.  \n",
        "- Investigate and refine the benefits of different payment modes to encourage continued usage.  \n"
      ],
      "metadata": {
        "id": "KSaFZL34RSbA"
      }
    }
  ]
}